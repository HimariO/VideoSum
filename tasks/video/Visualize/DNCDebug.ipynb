{
 "metadata": {
  "name": "",
  "signature": "sha256:5d272c7bf6792e6c73c0abf61304c34b4d0bacdf0f78b6afedb1d0fec509ff2b"
 },
 "nbformat": 3,
 "nbformat_minor": 0,
 "worksheets": [
  {
   "cells": [
    {
     "cell_type": "code",
     "collapsed": false,
     "input": [
      "import math\n",
      "z = [0, 2.0, 0, 0, 0, 0, 3.0]\n",
      "z_exp = [math.exp(i) for i in z]  \n",
      "print(z_exp)  # Result: [2.72, 7.39, 20.09, 54.6, 2.72, 7.39, 20.09] \n",
      "sum_z_exp = sum(z_exp)  \n",
      "print(sum_z_exp)  # Result: 114.98 \n",
      "softmax = [round(i / sum_z_exp, 3) for i in z_exp]\n",
      "print(softmax)  "
     ],
     "language": "python",
     "metadata": {},
     "outputs": [
      {
       "output_type": "stream",
       "stream": "stdout",
       "text": [
        "[1.0, 7.38905609893065, 1.0, 1.0, 1.0, 1.0, 20.085536923187668]\n",
        "32.47459302211832\n",
        "[0.031, 0.228, 0.031, 0.031, 0.031, 0.031, 0.619]\n"
       ]
      }
     ],
     "prompt_number": 2
    },
    {
     "cell_type": "code",
     "collapsed": false,
     "input": [
      "import numpy as np\n",
      "import train_until\n",
      "\n",
      "debug = np.load('debug_step-2368963.npy').tolist()\n",
      "key = list(debug.keys())\n",
      "remap = train_until.mul_onehot_remap()\n",
      "anno, dictionary = train_until.load('./dataset/MSR_en.csv', './dataset/MSR_en_dict.csv')\n",
      "word_map = {}\n",
      "for word in dictionary.keys():\n",
      "    word_map[dictionary[word]] = word"
     ],
     "language": "python",
     "metadata": {},
     "outputs": [],
     "prompt_number": 120
    },
    {
     "cell_type": "code",
     "collapsed": false,
     "input": [],
     "language": "python",
     "metadata": {},
     "outputs": [
      {
       "output_type": "stream",
       "stream": "stdout",
       "text": [
        "Object `debug.max` not found.\n"
       ]
      }
     ],
     "prompt_number": 141
    },
    {
     "cell_type": "code",
     "collapsed": false,
     "input": [
      "tar_id = train_until.mul_onehot2ids(debug[key[4]])\n",
      "out_id = train_until.mul_onehot2ids(debug[key[1]])"
     ],
     "language": "python",
     "metadata": {},
     "outputs": [],
     "prompt_number": 135
    },
    {
     "cell_type": "code",
     "collapsed": false,
     "input": [
      "tar_id"
     ],
     "language": "python",
     "metadata": {},
     "outputs": [],
     "prompt_number": 144
    },
    {
     "cell_type": "code",
     "collapsed": false,
     "input": [
      "list(map(lambda x: [x[0], x[1] + 256], out_id[0]))"
     ],
     "language": "python",
     "metadata": {},
     "outputs": [
      {
       "metadata": {},
       "output_type": "pyout",
       "prompt_number": 134,
       "text": [
        "[[69, 460],\n",
        " [183, 444],\n",
        " [214, 444],\n",
        " [56, 444],\n",
        " [169, 317],\n",
        " [69, 317],\n",
        " [69, 460],\n",
        " [69, 460],\n",
        " [69, 460],\n",
        " [69, 373],\n",
        " [69, 373],\n",
        " [69, 460],\n",
        " [69, 460],\n",
        " [69, 460],\n",
        " [69, 460],\n",
        " [69, 460],\n",
        " [173, 460],\n",
        " [69, 345],\n",
        " [240, 428],\n",
        " [195, 481],\n",
        " [195, 481],\n",
        " [46, 392],\n",
        " [236, 350],\n",
        " [46, 392],\n",
        " [69, 460],\n",
        " [4, 350],\n",
        " [46, 392],\n",
        " [46, 392]]"
       ]
      }
     ],
     "prompt_number": 134
    },
    {
     "cell_type": "code",
     "collapsed": false,
     "input": [
      "out_id"
     ],
     "language": "python",
     "metadata": {},
     "outputs": [
      {
       "metadata": {},
       "output_type": "pyout",
       "prompt_number": 124,
       "text": [
        "array([[[  0,   0],\n",
        "        [  0,   0],\n",
        "        [  0,   0],\n",
        "        [  0,   0],\n",
        "        [  0,   0],\n",
        "        [  0,   0],\n",
        "        [  0,   0],\n",
        "        [  0,   0],\n",
        "        [  0,   0],\n",
        "        [  0,   0],\n",
        "        [  0,   0],\n",
        "        [  0,   0],\n",
        "        [  0,   0],\n",
        "        [  0,   0],\n",
        "        [  0,   0],\n",
        "        [  0,   0],\n",
        "        [  0,   0],\n",
        "        [136,  23],\n",
        "        [134,  33],\n",
        "        [ 61, 117],\n",
        "        [ 32,  33],\n",
        "        [240, 172],\n",
        "        [  4,  94],\n",
        "        [236,  76],\n",
        "        [ 69, 204],\n",
        "        [  9, 228],\n",
        "        [192, 180],\n",
        "        [ 46, 136]]])"
       ]
      }
     ],
     "prompt_number": 124
    },
    {
     "cell_type": "code",
     "collapsed": false,
     "input": [
      "remap_inv = {}\n",
      "for i in range(len(remap)):\n",
      "    remap_inv[remap[i]] = i"
     ],
     "language": "python",
     "metadata": {},
     "outputs": [],
     "prompt_number": 81
    },
    {
     "cell_type": "code",
     "collapsed": false,
     "input": [
      "toid = lambda x: x[0] + x[1]*256\n",
      "ID = remap_inv[toid(out_id[0,20])]\n",
      "print(word_map[ID])"
     ],
     "language": "python",
     "metadata": {},
     "outputs": [
      {
       "output_type": "stream",
       "stream": "stdout",
       "text": [
        "weapons\n"
       ]
      }
     ],
     "prompt_number": 130
    },
    {
     "cell_type": "code",
     "collapsed": false,
     "input": [
      "config = (32, 3)\n",
      "index = 12345\n",
      "T = [(index % config[0]**i) // config[0]**(i - 1) for i in range(1, 1 + config[1])]\n",
      "print(T)"
     ],
     "language": "python",
     "metadata": {},
     "outputs": [
      {
       "output_type": "stream",
       "stream": "stdout",
       "text": [
        "[25, 1, 12]\n"
       ]
      }
     ],
     "prompt_number": 62
    },
    {
     "cell_type": "code",
     "collapsed": false,
     "input": [
      "train_until.mul_onehot2ids(debug[key[4]][0,0].reshape([1,1,512]))"
     ],
     "language": "python",
     "metadata": {},
     "outputs": [
      {
       "metadata": {},
       "output_type": "pyout",
       "prompt_number": 108,
       "text": [
        "array([[[ 69, 204]]])"
       ]
      }
     ],
     "prompt_number": 108
    },
    {
     "cell_type": "code",
     "collapsed": false,
     "input": [
      "[1]*5"
     ],
     "language": "python",
     "metadata": {},
     "outputs": [
      {
       "metadata": {},
       "output_type": "pyout",
       "prompt_number": 119,
       "text": [
        "[1, 1, 1, 1, 1]"
       ]
      }
     ],
     "prompt_number": 119
    }
   ],
   "metadata": {}
  }
 ]
}